{
 "cells": [
  {
   "cell_type": "code",
   "execution_count": 4,
   "metadata": {},
   "outputs": [
    {
     "name": "stdout",
     "output_type": "stream",
     "text": [
      "C:\\Users\\cttavares479\\OneDrive - INL\\Desktop\\Research\\16. Quindcert\\quindcert\\src\n"
     ]
    }
   ],
   "source": [
    "import sys\n",
    "import os\n",
    "\n",
    "# Add the src directory to the path\n",
    "sys.path.append(os.path.abspath('../src'))\n",
    "print (os.path.abspath('..'))"
   ]
  },
  {
   "cell_type": "code",
   "execution_count": 5,
   "metadata": {},
   "outputs": [
    {
     "ename": "ModuleNotFoundError",
     "evalue": "No module named 'base'",
     "output_type": "error",
     "traceback": [
      "\u001b[1;31m---------------------------------------------------------------------------\u001b[0m",
      "\u001b[1;31mModuleNotFoundError\u001b[0m                       Traceback (most recent call last)",
      "Cell \u001b[1;32mIn[5], line 1\u001b[0m\n\u001b[1;32m----> 1\u001b[0m \u001b[38;5;28;01mfrom\u001b[39;00m \u001b[38;5;21;01mbase\u001b[39;00m\u001b[38;5;21;01m.\u001b[39;00m\u001b[38;5;21;01mdevices\u001b[39;00m \u001b[38;5;28;01mimport\u001b[39;00m DeviceMode\n\u001b[0;32m      3\u001b[0m \u001b[38;5;28;01mfrom\u001b[39;00m \u001b[38;5;21;01mphotonic_indistinguishability_measures\u001b[39;00m\u001b[38;5;21;01m.\u001b[39;00m\u001b[38;5;21;01mbunching\u001b[39;00m \u001b[38;5;28;01mimport\u001b[39;00m BunchingCalculator\n\u001b[0;32m      4\u001b[0m \u001b[38;5;28;01mfrom\u001b[39;00m \u001b[38;5;21;01mquandela\u001b[39;00m\u001b[38;5;21;01m.\u001b[39;00m\u001b[38;5;21;01mquandela_devices\u001b[39;00m \u001b[38;5;28;01mimport\u001b[39;00m QuandelaDeviceFactory\n",
      "\u001b[1;31mModuleNotFoundError\u001b[0m: No module named 'base'"
     ]
    }
   ],
   "source": [
    "from base.devices import DeviceMode\n",
    "\n",
    "from photonic_indistinguishability_measures.bunching import BunchingCalculator\n",
    "from quandela.quandela_devices import QuandelaDeviceFactory\n",
    "from quandela.quandela_devices import QuandelaLocalDevices, QuandelaRemoteDevices\n",
    "\n",
    "number_of_modes = 3\n",
    "\n",
    "device = QuandelaDeviceFactory.create_local_device (QuandelaLocalDevices.NAIVE, DeviceMode.SAMPLER)\n",
    "bc = BunchingCalculator (device, number_of_modes)\n",
    "\n",
    "P_fb_d = bc.do_the_experiments_for_full_bunching_distinguishable_case ()\n",
    "P_fb_i = bc.do_the_experiments_for_full_bunching_indistinguishable_case ()\n",
    "\n",
    "print (\"Probability of full bunching for the Indistinguishable scenario:  \", P_fb_i)\n",
    "print (\"Probability of full bunching for the distinguishable scenarion: \", P_fb_d)"
   ]
  },
  {
   "cell_type": "code",
   "execution_count": null,
   "metadata": {},
   "outputs": [],
   "source": [
    "from photonic_indistinguishability_measures.variance import Variance\n",
    "\n",
    "variance_calculator = Variance(device, number_of_modes)\n",
    "\n",
    "var_i = variance_calculator.execute_experiment_variance_indistinguishable_scenario (number_of_modes)\n",
    "var_d = variance_calculator.execute_experiment_variance_distinguishable_scenario(number_of_modes)\n",
    "\n",
    "print (\"Variance for the indistinguishable scenario: \", var_i)\n",
    "print (\"Variance for the distinguishable scenario: \", var_d)\n",
    "\n",
    "max_variance = Variance.calculate_max_expected_variance(number_of_modes)\n",
    "min_variance = Variance.calculate_min_expected_variance(number_of_modes)\n",
    "\n",
    "if number_of_modes == 3:\n",
    "    variance_calculator.calculate_minimum_three_modes (var_i)\n",
    "\n",
    "bound = Variance.calculate_bound_average_n_modes (var_i, var_d, number_of_modes)\n",
    "print (\"Bound for average overlap (average_overlap > bound):\", bound)"
   ]
  },
  {
   "cell_type": "code",
   "execution_count": null,
   "metadata": {},
   "outputs": [],
   "source": [
    "from quandela.quandela_tomography import QuandelaProcessTomographyProber\n",
    "from tomography.process_tomography_methods import SuperStableMethod\n",
    "from tomography.process_tomography_quandela import DeviceCharacterizer\n",
    "\n",
    "prober = QuandelaProcessTomographyProber (number_of_modes, device)\n",
    "super_stable_method = SuperStableMethod (number_of_modes)\n",
    "device_characterizer = DeviceCharacterizer (number_of_modes, prober, super_stable_method)\n",
    "\n",
    "(original, reconstructed, trace) = device_characterizer.reconstruct_state ()\n",
    "print (\"Original matrix: \", original)\n",
    "\n",
    "print (\"Reconstructed matrix: \", reconstructed)\n",
    "print (\"Trace: \", trace)"
   ]
  },
  {
   "cell_type": "code",
   "execution_count": null,
   "metadata": {},
   "outputs": [],
   "source": [
    "from tomography.estimating_overlaps import GramMatrixFromVariance\n",
    "\n",
    "\n",
    "gram_matrix_reconstruction = GramMatrixFromVariance (variance_calculator, device_characterizer)\n",
    "matrix = gram_matrix_reconstruction.do_experiments_to_calculate_the_gram_matrix (number_of_modes)\n",
    "print (\"Resultant Gram matrix: \", matrix)"
   ]
  }
 ],
 "metadata": {
  "kernelspec": {
   "display_name": "Python 3 (ipykernel)",
   "language": "python",
   "name": "python3"
  },
  "language_info": {
   "codemirror_mode": {
    "name": "ipython",
    "version": 3
   },
   "file_extension": ".py",
   "mimetype": "text/x-python",
   "name": "python",
   "nbconvert_exporter": "python",
   "pygments_lexer": "ipython3",
   "version": "3.10.11"
  }
 },
 "nbformat": 4,
 "nbformat_minor": 2
}
